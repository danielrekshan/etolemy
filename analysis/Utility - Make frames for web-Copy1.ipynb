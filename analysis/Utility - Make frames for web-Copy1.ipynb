{
 "cells": [
  {
   "cell_type": "code",
   "execution_count": 24,
   "id": "0cf6e175",
   "metadata": {},
   "outputs": [
    {
     "data": {
      "text/plain": [
       "Unnamed: 0.1                  2.000000\n",
       "Unnamed: 0                    2.000000\n",
       "frame                         3.000000\n",
       "bright_w                      0.000000\n",
       "valence_w                     0.000000\n",
       "max_w                         0.000000\n",
       "bright_t                      0.000000\n",
       "valence_t                     0.000000\n",
       "max_t                         0.000000\n",
       "bright_c                      0.000000\n",
       "valence_c                     0.000000\n",
       "max_c                         0.000000\n",
       "bright_f                      0.000000\n",
       "valence_f                     0.000000\n",
       "max_f                         0.000000\n",
       "bright_s                      0.000000\n",
       "valence_s                     0.000000\n",
       "max_s                         0.000000\n",
       "corrected_focus               0.000000\n",
       "val_sq                        0.000000\n",
       "stars_delta                   0.000075\n",
       "stars_v_delta                -4.475538\n",
       "corrected_by_stars            0.000005\n",
       "valence_corrected_by_stars   -1.144193\n",
       "val_sq_corrected              1.309178\n",
       "frame_signal                  0.000000\n",
       "Name: 2, dtype: float64"
      ]
     },
     "execution_count": 24,
     "metadata": {},
     "output_type": "execute_result"
    }
   ],
   "source": [
    "import sys\n",
    "import os\n",
    "import pandas as pd\n",
    "import matplotlib.pyplot as plt\n",
    "import numpy as np\n",
    "from PIL import Image\n",
    "import cv2 as cv\n",
    "\n",
    "\n",
    "frames = []\n",
    "\n",
    "df = pd.read_csv('./data/2-corrected_by_stars.csv')\n",
    "df\n",
    "\n",
    "df.loc[2]"
   ]
  },
  {
   "cell_type": "code",
   "execution_count": 36,
   "id": "8c923dad",
   "metadata": {},
   "outputs": [],
   "source": [
    "for j in range(0,3000):\n",
    "    i = j+1\n",
    "    image = Image.open(os.path.join(sys.path[0], \"./frames/circle/\"+str(i)+\".png\"))\n",
    "    width, height = image.size\n",
    "    left = 622\n",
    "    top = 184\n",
    "    right = 725\n",
    "    bottom = 287\n",
    "    im1 = image.crop((left, top, right, bottom))\n",
    "    \n",
    "    im1 = im1.resize((400, 400))\n",
    "    im1.save(\"./frames/web/\"+str(i)+\".png\")\n",
    "    \n",
    "    image = cv.imread('./frames/web/'+str(i)+'.png')\n",
    "#     plt.title(\"image\")\n",
    "#     plt.imshow(image)\n",
    "#     plt.show()\n",
    "    cv.putText(image, str(i), (20, 60),\n",
    "                       cv.FONT_HERSHEY_SIMPLEX, 2, (255, 255, 255), 4)\n",
    "    cv.putText(image, \"b: \"+str(round(df.loc[i+1]['frame_signal']*100000,4)), (20, 335),\n",
    "               cv.FONT_HERSHEY_SIMPLEX, 1, (255, 255, 255), 2)\n",
    "    cv.putText(image, \"v: \" + str(round(df.loc[i+1]['valence_corrected_by_stars'], 3)), (20, 375),\n",
    "               cv.FONT_HERSHEY_SIMPLEX, 1, (255, 255, 255), 2)\n",
    "#     plt.title(\"image\")\n",
    "#     plt.imshow(image)\n",
    "#     plt.show()\n",
    "    cv.imwrite(\"./frames/gif/\"+str(i)+\".png\", image)"
   ]
  },
  {
   "cell_type": "code",
   "execution_count": null,
   "id": "c4e4ed20",
   "metadata": {},
   "outputs": [],
   "source": []
  }
 ],
 "metadata": {
  "kernelspec": {
   "display_name": "Python 3 (ipykernel)",
   "language": "python",
   "name": "python3"
  },
  "language_info": {
   "codemirror_mode": {
    "name": "ipython",
    "version": 3
   },
   "file_extension": ".py",
   "mimetype": "text/x-python",
   "name": "python",
   "nbconvert_exporter": "python",
   "pygments_lexer": "ipython3",
   "version": "3.8.10"
  }
 },
 "nbformat": 4,
 "nbformat_minor": 5
}
