{
 "cells": [
  {
   "cell_type": "code",
   "execution_count": 2,
   "id": "e947cb57",
   "metadata": {},
   "outputs": [
    {
     "name": "stderr",
     "output_type": "stream",
     "text": [
      "[ WARN:0@83.016] global loadsave.cpp:244 findDecoder imread_('frames/1.png'): can't open/read file: check file path/integrity\n"
     ]
    },
    {
     "ename": "error",
     "evalue": "OpenCV(4.7.0) /io/opencv/modules/imgproc/src/color.cpp:182: error: (-215:Assertion failed) !_src.empty() in function 'cvtColor'\n",
     "output_type": "error",
     "traceback": [
      "\u001b[0;31m---------------------------------------------------------------------------\u001b[0m",
      "\u001b[0;31merror\u001b[0m                                     Traceback (most recent call last)",
      "Cell \u001b[0;32mIn[2], line 44\u001b[0m\n\u001b[1;32m     41\u001b[0m             plt\u001b[38;5;241m.\u001b[39mimshow(image)\n\u001b[1;32m     42\u001b[0m             plt\u001b[38;5;241m.\u001b[39mshow()\n\u001b[0;32m---> 44\u001b[0m \u001b[43mtest_frame\u001b[49m\u001b[43m(\u001b[49m\u001b[38;5;241;43m1\u001b[39;49m\u001b[43m)\u001b[49m\n",
      "Cell \u001b[0;32mIn[2], line 19\u001b[0m, in \u001b[0;36mtest_frame\u001b[0;34m(num)\u001b[0m\n\u001b[1;32m     14\u001b[0m image \u001b[38;5;241m=\u001b[39m cv\u001b[38;5;241m.\u001b[39mimread(\u001b[38;5;124m'\u001b[39m\u001b[38;5;124mframes/\u001b[39m\u001b[38;5;124m'\u001b[39m\u001b[38;5;241m+\u001b[39m\u001b[38;5;28mstr\u001b[39m(num)\u001b[38;5;241m+\u001b[39m\u001b[38;5;124m'\u001b[39m\u001b[38;5;124m.png\u001b[39m\u001b[38;5;124m'\u001b[39m)\n\u001b[1;32m     15\u001b[0m \u001b[38;5;66;03m# plt.title(\"image\")\u001b[39;00m\n\u001b[1;32m     16\u001b[0m \u001b[38;5;66;03m# plt.imshow(image)\u001b[39;00m\n\u001b[1;32m     17\u001b[0m \u001b[38;5;66;03m# plt.show()\u001b[39;00m\n\u001b[0;32m---> 19\u001b[0m gray \u001b[38;5;241m=\u001b[39m \u001b[43mcv\u001b[49m\u001b[38;5;241;43m.\u001b[39;49m\u001b[43mcvtColor\u001b[49m\u001b[43m(\u001b[49m\u001b[43mimage\u001b[49m\u001b[43m,\u001b[49m\u001b[43m \u001b[49m\u001b[43mcv\u001b[49m\u001b[38;5;241;43m.\u001b[39;49m\u001b[43mCOLOR_BGR2GRAY\u001b[49m\u001b[43m)\u001b[49m\n\u001b[1;32m     20\u001b[0m \u001b[38;5;66;03m# plt.title(\"gray\")\u001b[39;00m\n\u001b[1;32m     21\u001b[0m \u001b[38;5;66;03m# plt.imshow(gray)\u001b[39;00m\n\u001b[1;32m     22\u001b[0m \u001b[38;5;66;03m# plt.show()\u001b[39;00m\n\u001b[1;32m     23\u001b[0m blur \u001b[38;5;241m=\u001b[39m cv\u001b[38;5;241m.\u001b[39mGaussianBlur(gray, (\u001b[38;5;241m5\u001b[39m, \u001b[38;5;241m5\u001b[39m),cv\u001b[38;5;241m.\u001b[39mBORDER_DEFAULT)\n",
      "\u001b[0;31merror\u001b[0m: OpenCV(4.7.0) /io/opencv/modules/imgproc/src/color.cpp:182: error: (-215:Assertion failed) !_src.empty() in function 'cvtColor'\n"
     ]
    }
   ],
   "source": [
    "\n",
    "import sys\n",
    "import os\n",
    "import pandas as pd\n",
    "import matplotlib.pyplot as plt\n",
    "import numpy as np\n",
    "import cv2 as cv\n",
    "from PIL import Image\n",
    "\n",
    "\n",
    "df = pd.DataFrame(columns=['frame', 'area', 'x', 'y'])\n",
    "\n",
    "def test_frame(num):\n",
    "\n",
    "    image = cv.imread('frames/'+str(num)+'.png')\n",
    "    # plt.title(\"image\")\n",
    "    # plt.imshow(image)\n",
    "    # plt.show()\n",
    "\n",
    "    gray = cv.cvtColor(image, cv.COLOR_BGR2GRAY)\n",
    "    # plt.title(\"gray\")\n",
    "    # plt.imshow(gray)\n",
    "    # plt.show()\n",
    "    blur = cv.GaussianBlur(gray, (5, 5),cv.BORDER_DEFAULT)\n",
    "    ret, thresh = cv.threshold(blur, 150, 255, cv.THRESH_BINARY_INV)\n",
    "    contours, hierarchies = cv.findContours(thresh, cv.RETR_LIST, cv.CHAIN_APPROX_SIMPLE)\n",
    "    plt.title(\"thresh\")\n",
    "    plt.imshow(thresh)\n",
    "    plt.show()\n",
    "\n",
    "    if len(contours)>1 :\n",
    "        M = cv.moments(contours[-2])\n",
    "\n",
    "        if M['m00'] == cv.contourArea(contours[-2]):\n",
    "            cx = int(M['m10']/M['m00'])\n",
    "            cy = int(M['m01']/M['m00'])\n",
    "            cv.drawContours(image, [contours[-2]], -1, (0, 255, 0), 2)\n",
    "            cv.circle(image, (cx, cy), 7, (0, 0, 255), -1)\n",
    "            cv.putText(image, \"center\", (cx - 20, cy - 20),\n",
    "                       cv.FONT_HERSHEY_SIMPLEX, 0.5, (0, 0, 0), 2)\n",
    "            plt.title(\"imageimage\")\n",
    "            plt.imshow(image)\n",
    "            plt.show()\n",
    "\n",
    "test_frame(1)"
   ]
  }
 ],
 "metadata": {
  "kernelspec": {
   "display_name": "Python 3 (ipykernel)",
   "language": "python",
   "name": "python3"
  },
  "language_info": {
   "codemirror_mode": {
    "name": "ipython",
    "version": 3
   },
   "file_extension": ".py",
   "mimetype": "text/x-python",
   "name": "python",
   "nbconvert_exporter": "python",
   "pygments_lexer": "ipython3",
   "version": "3.8.10"
  }
 },
 "nbformat": 4,
 "nbformat_minor": 5
}
